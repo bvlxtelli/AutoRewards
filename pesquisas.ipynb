{
 "cells": [
  {
   "cell_type": "code",
   "execution_count": null,
   "metadata": {},
   "outputs": [],
   "source": [
    "from selenium import webdriver\n",
    "from selenium.webdriver.common.by import By\n",
    "from selenium.webdriver.common.keys import Keys\n",
    "from datetime import datetime\n",
    "import time\n",
    "import random\n",
    "\n",
    "# Configuração do WebDriver para usar o perfil do Chrome\n",
    "options = webdriver.ChromeOptions()\n",
    "\n",
    "nome_de_usuario = \"LeBron\"\n",
    "\n",
    "# Altere este caminho para o seu \"User Data\" do Chrome\n",
    "options.add_argument(f\"user-data-dir=C:\\\\Users\\\\{nome_de_usuario}\\\\AppData\\\\Local\\\\Google\\\\Chrome\\\\User Data\\\\Default\\\\Default\")  \n",
    "options.add_argument(\"profile-directory=Default\")  # Ou o nome do perfil, se não for \"Default\"\n",
    "\n",
    "# Inicializar o driver\n",
    "driver = webdriver.Chrome(options=options)\n",
    "\n",
    "# Acesse o Bing já logado na conta Microsoft\n",
    "driver.get(\"https://www.bing.com\")\n",
    "\n",
    "# Contador de pesquisas\n",
    "contador = 0\n",
    "\n",
    "# Lista de palavras para pesquisa\n",
    "letras = ['a','b','c','d','e','f','g','h','i','j','k','l','m','n','o','p','q','r','s','t','u','v','w','x','y','zz',]\n",
    "\n",
    "# Realizar 30 pesquisas\n",
    "while contador < 30:\n",
    "\n",
    "    dia = datetime.now().strftime(\"%d/%m/%Y\")\n",
    "    hora = datetime.now().strftime(\"%H:%M:%S\")\n",
    "\n",
    "    termo = (random.choice(letras)) + (random.choice(letras)) + (random.choice(letras)) + (random.choice(letras)) + (random.choice(letras)) \n",
    "    search_box = driver.find_element(By.NAME, \"q\")\n",
    "    search_box.clear()\n",
    "    search_box.send_keys(termo)\n",
    "    search_box.send_keys(Keys.RETURN)\n",
    "    contador += 1\n",
    "\n",
    "    print(f'[ {dia} - {hora} ] Pesquisa número {contador} realizada.')\n",
    "\n",
    "    time.sleep(random.uniform(7, 9))  # Espera aleatória para evitar bloqueios\n",
    "\n",
    "print(f'\\n ------------------------------------------------------------ \\n')\n",
    "print(f'\\n {contador} Pesquisas foram realizadas... Provavelmente... \\n')\n",
    "print(f'\\n ------------------------------------------------------------ \\n')\n",
    "\n",
    "# Reseta o contador\n",
    "contador = 0\n",
    "\n",
    "driver.quit()"
   ]
  }
 ],
 "metadata": {
  "kernelspec": {
   "display_name": "Python 3",
   "language": "python",
   "name": "python3"
  },
  "language_info": {
   "codemirror_mode": {
    "name": "ipython",
    "version": 3
   },
   "file_extension": ".py",
   "mimetype": "text/x-python",
   "name": "python",
   "nbconvert_exporter": "python",
   "pygments_lexer": "ipython3",
   "version": "undefined.undefined.undefined"
  }
 },
 "nbformat": 4,
 "nbformat_minor": 2
}
